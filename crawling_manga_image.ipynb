{
 "cells": [
  {
   "cell_type": "code",
   "execution_count": 56,
   "metadata": {},
   "outputs": [],
   "source": [
    "import requests\n",
    "import pandas"
   ]
  },
  {
   "cell_type": "code",
   "execution_count": 65,
   "metadata": {},
   "outputs": [],
   "source": [
    "game_ids = pandas.read_csv('table/id.csv')"
   ]
  },
  {
   "cell_type": "code",
   "execution_count": 64,
   "metadata": {},
   "outputs": [
    {
     "data": {
      "text/plain": [
       "671371"
      ]
     },
     "execution_count": 64,
     "metadata": {},
     "output_type": "execute_result"
    }
   ],
   "source": [
    "ids['id'][0]"
   ]
  },
  {
   "cell_type": "code",
   "execution_count": 73,
   "metadata": {},
   "outputs": [],
   "source": [
    "requests.adapters.DEFAULT_RETRIES = 5 \n",
    "s = requests.session()\n",
    "s.keep_alive = False # close redundant connections"
   ]
  },
  {
   "cell_type": "code",
   "execution_count": 74,
   "metadata": {},
   "outputs": [
    {
     "name": "stdout",
     "output_type": "stream",
     "text": [
      "0\n",
      "671371\n"
     ]
    }
   ],
   "source": [
    "for a,b in enumerate(game_ids['id'][:1000]):\n",
    "    print(a)\n",
    "    print(b)\n",
    "    break"
   ]
  },
  {
   "cell_type": "code",
   "execution_count": 77,
   "metadata": {
    "scrolled": false
   },
   "outputs": [
    {
     "name": "stdout",
     "output_type": "stream",
     "text": [
      "stop at 2152\n",
      "stop at 2167\n",
      "stop at 2295\n",
      "stop at 2310\n",
      "stop at 2329\n",
      "stop at 2343\n",
      "stop at 2406\n",
      "stop at 2528\n",
      "stop at 2561\n",
      "stop at 2577\n"
     ]
    }
   ],
   "source": [
    "starting_ind = 2000\n",
    "sample_number = 1000\n",
    "for i, game_id in enumerate(game_ids['id'][starting_ind:starting_ind+sample_number]):\n",
    "    try:\n",
    "        for chara in range(10):\n",
    "            url = str.format(\"http://www.getchu.com/brandnew/{0}/c{0}chara{1}.jpg\",game_id, chara+1)\n",
    "            r = requests.get(url, allow_redirects=True)\n",
    "            if(r.status_code == 200):\n",
    "                with open(str.format('{0}-{1}.png',game_id,chara+1),'wb') as file:\n",
    "                    file.write(requests.get(url, allow_redirects=True).content)\n",
    "    except:\n",
    "        print(\"stop at \" + str(starting_ind+i))"
   ]
  },
  {
   "cell_type": "code",
   "execution_count": 51,
   "metadata": {},
   "outputs": [],
   "source": []
  }
 ],
 "metadata": {
  "kernelspec": {
   "display_name": "Python 3",
   "language": "python",
   "name": "python3"
  },
  "language_info": {
   "codemirror_mode": {
    "name": "ipython",
    "version": 3
   },
   "file_extension": ".py",
   "mimetype": "text/x-python",
   "name": "python",
   "nbconvert_exporter": "python",
   "pygments_lexer": "ipython3",
   "version": "3.6.5"
  }
 },
 "nbformat": 4,
 "nbformat_minor": 2
}
